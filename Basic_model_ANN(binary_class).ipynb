{
  "nbformat": 4,
  "nbformat_minor": 0,
  "metadata": {
    "colab": {
      "provenance": [],
      "gpuType": "T4"
    },
    "kernelspec": {
      "name": "python3",
      "display_name": "Python 3"
    },
    "language_info": {
      "name": "python"
    },
    "accelerator": "GPU"
  },
  "cells": [
    {
      "cell_type": "code",
      "execution_count": null,
      "metadata": {
        "id": "8-qMjYMXEID_"
      },
      "outputs": [],
      "source": [
        "# Import libraries and packages\n",
        "import matplotlib.pyplot as plt\n",
        "import pandas as pd\n",
        "import numpy as np\n",
        "from tensorflow.keras.utils import to_categorical\n",
        "from sklearn.model_selection import train_test_split\n",
        "from sklearn.metrics import confusion_matrix , accuracy_score, classification_report\n",
        "from tensorflow.keras.models import Sequential\n",
        "from tensorflow.keras.layers import Dense, Dropout\n",
        "from tensorflow.keras.optimizers import SGD\n",
        "from imutils import paths\n",
        "import numpy as np\n",
        "import random\n",
        "import pickle\n",
        "import cv2\n",
        "import os\n",
        "import time   # time1 = time.time(); print('Time taken: {:.1f} seconds'.format(time.time() - time1))\n",
        "import warnings\n",
        "from tqdm import tqdm_notebook as tqdm\n",
        "import itertools\n",
        "\n",
        "%matplotlib inline\n",
        "warnings.filterwarnings(\"ignore\")\n",
        "SEED = 42   # set random seed"
      ]
    },
    {
      "cell_type": "code",
      "source": [
        "from google.colab import drive\n",
        "drive.mount('/content/drive')"
      ],
      "metadata": {
        "id": "6jUhIPMzFNSX"
      },
      "execution_count": null,
      "outputs": []
    },
    {
      "cell_type": "code",
      "source": [
        "# change working DIR\n",
        "import os\n",
        "os.chdir(\"/content/drive/MyDrive/ANN_Projects_Extra/Customer_Churn_Prediction\")"
      ],
      "metadata": {
        "id": "Bcy9wyuPFTmG"
      },
      "execution_count": null,
      "outputs": []
    },
    {
      "cell_type": "code",
      "source": [
        "!dir"
      ],
      "metadata": {
        "id": "DjyFSNXZFk-4"
      },
      "execution_count": null,
      "outputs": []
    },
    {
      "cell_type": "code",
      "source": [
        "# # Extract dataset.rar file\n",
        "# !pip install patool\n",
        "# import patoolib\n",
        "# patoolib.extract_archive(\"Customer_Churn.zip\")\n"
      ],
      "metadata": {
        "id": "mcv2hR3GFoGq"
      },
      "execution_count": null,
      "outputs": []
    },
    {
      "cell_type": "code",
      "source": [
        "!dir"
      ],
      "metadata": {
        "id": "kP_ThvSZGLIB"
      },
      "execution_count": null,
      "outputs": []
    },
    {
      "cell_type": "code",
      "source": [
        "df = pd.read_csv('/content/drive/MyDrive/ANN_Projects_Extra/Customer_Churn_Prediction/Churn_Modelling.csv')"
      ],
      "metadata": {
        "id": "M2Jo6fFqGjpF"
      },
      "execution_count": null,
      "outputs": []
    },
    {
      "cell_type": "code",
      "source": [
        "df.head()"
      ],
      "metadata": {
        "id": "ak-YXQm7G71I"
      },
      "execution_count": null,
      "outputs": []
    },
    {
      "cell_type": "code",
      "source": [
        "df.shape"
      ],
      "metadata": {
        "id": "TgUADvvFHJix"
      },
      "execution_count": null,
      "outputs": []
    },
    {
      "cell_type": "code",
      "source": [
        "df.info()"
      ],
      "metadata": {
        "id": "UooUgTfkHUQz"
      },
      "execution_count": null,
      "outputs": []
    },
    {
      "cell_type": "code",
      "source": [
        "df.duplicated().sum()  #checking duplicate rows in dataframe"
      ],
      "metadata": {
        "id": "VZTTEQYRI8Jo"
      },
      "execution_count": null,
      "outputs": []
    },
    {
      "cell_type": "code",
      "source": [
        "df['Exited'].value_counts()"
      ],
      "metadata": {
        "id": "h3v7w8VPJclT"
      },
      "execution_count": null,
      "outputs": []
    },
    {
      "cell_type": "code",
      "source": [
        "df['Geography'].value_counts()"
      ],
      "metadata": {
        "id": "dixp7gEzJspz"
      },
      "execution_count": null,
      "outputs": []
    },
    {
      "cell_type": "code",
      "source": [
        "df['Gender'].value_counts()"
      ],
      "metadata": {
        "id": "LOiOEAEFKET5"
      },
      "execution_count": null,
      "outputs": []
    },
    {
      "cell_type": "code",
      "source": [
        "df.drop(columns=['RowNumber','CustomerId','Surname'],inplace=True)"
      ],
      "metadata": {
        "id": "KRdzwNSoKLSM"
      },
      "execution_count": null,
      "outputs": []
    },
    {
      "cell_type": "code",
      "source": [
        "df.head()"
      ],
      "metadata": {
        "id": "NyN9SrkVKmQK"
      },
      "execution_count": null,
      "outputs": []
    },
    {
      "cell_type": "markdown",
      "source": [
        "#Label Encoding"
      ],
      "metadata": {
        "id": "ZD4ACJJm8K0I"
      }
    },
    {
      "cell_type": "code",
      "source": [
        "df = pd.get_dummies(df,columns=['Geography','Gender'],drop_first=True)\n"
      ],
      "metadata": {
        "id": "I_EbjHYCK0_5"
      },
      "execution_count": null,
      "outputs": []
    },
    {
      "cell_type": "code",
      "source": [
        "df.head()"
      ],
      "metadata": {
        "id": "BHj-YG4GLxtQ"
      },
      "execution_count": null,
      "outputs": []
    },
    {
      "cell_type": "code",
      "source": [
        "X = df.drop(columns=['Exited'])\n",
        "y = df['Exited']"
      ],
      "metadata": {
        "id": "uv5esXy-NB0D"
      },
      "execution_count": null,
      "outputs": []
    },
    {
      "cell_type": "code",
      "source": [
        "from sklearn.model_selection import train_test_split\n",
        "\n",
        "X_train, X_test, y_train, y_test =train_test_split(X,y, test_size=0.2, random_state=1)"
      ],
      "metadata": {
        "id": "C_1NNSxnMNWy"
      },
      "execution_count": null,
      "outputs": []
    },
    {
      "cell_type": "code",
      "source": [
        "from sklearn.preprocessing import StandardScaler\n",
        "\n",
        "scaler = StandardScaler()\n",
        "X_train_scaled = scaler.fit_transform(X_train)\n",
        "X_test_scaled = scaler.transform(X_test)"
      ],
      "metadata": {
        "id": "hpSIz7BGNZ5Q"
      },
      "execution_count": null,
      "outputs": []
    },
    {
      "cell_type": "code",
      "source": [
        "import tensorflow\n",
        "from tensorflow import keras\n",
        "from tensorflow.keras import Sequential\n",
        "from tensorflow.keras.layers import Dense"
      ],
      "metadata": {
        "id": "TCIu-SoPOcfv"
      },
      "execution_count": null,
      "outputs": []
    },
    {
      "cell_type": "code",
      "source": [
        "model = Sequential()\n",
        "\n",
        "# first hidden layer has 11 nodes\n",
        "model.add(Dense(units = 11, input_dim = 11, activation=\"relu\")) #input_dim 11 beacuse 11 columns are there\n",
        "\n",
        " # output layer with number of possible class labels\n",
        "model.add(Dense(units=1, activation=\"sigmoid\"))"
      ],
      "metadata": {
        "id": "t2ygos-FPj9n"
      },
      "execution_count": null,
      "outputs": []
    },
    {
      "cell_type": "code",
      "source": [
        "model.summary()"
      ],
      "metadata": {
        "id": "-9eN24ezSb7P"
      },
      "execution_count": null,
      "outputs": []
    },
    {
      "cell_type": "code",
      "source": [
        "from keras.src.optimizers import Adam\n",
        "#Model Compiling\n",
        "\n",
        "model.compile(loss=\"binary_crossentropy\", optimizer=\"Adam\", metrics=[\"accuracy\"])"
      ],
      "metadata": {
        "id": "Ey4TwyqaSigb"
      },
      "execution_count": null,
      "outputs": []
    },
    {
      "cell_type": "code",
      "source": [
        "# train the neural network on training data set\n",
        "# batch_size (32) controls the size of each group of data to pass through the network.\n",
        "H = model.fit(X_train_scaled,\n",
        "              y_train,\n",
        "\n",
        "              validation_split=0.2,\n",
        "              epochs=100,\n",
        "              )"
      ],
      "metadata": {
        "id": "I_PIACpvlpMe"
      },
      "execution_count": null,
      "outputs": []
    },
    {
      "cell_type": "code",
      "source": [
        "model.predict(X_test_scaled)"
      ],
      "metadata": {
        "id": "vyeMmWITWjiT"
      },
      "execution_count": null,
      "outputs": []
    },
    {
      "cell_type": "markdown",
      "source": [
        "In the out put we are getting the values between 0 to 1 beacuse we are using sigmoid activation function in outputlayer"
      ],
      "metadata": {
        "id": "ONPtK7dcX3wk"
      }
    },
    {
      "cell_type": "code",
      "source": [
        "y_log = model.predict(X_test_scaled)"
      ],
      "metadata": {
        "id": "x6e7wrSWXwzn"
      },
      "execution_count": null,
      "outputs": []
    },
    {
      "cell_type": "code",
      "source": [
        "y_log"
      ],
      "metadata": {
        "id": "eLJEernBaZWD"
      },
      "execution_count": null,
      "outputs": []
    },
    {
      "cell_type": "code",
      "source": [
        "y_pred = np.where(y_log>0.5,1,0) #if value is > 0.5 then value is 1 otherwise it is 0"
      ],
      "metadata": {
        "id": "GfFLwfzDYiuD"
      },
      "execution_count": null,
      "outputs": []
    },
    {
      "cell_type": "code",
      "source": [
        "def plot_confusion_metrix(y_true, y_pred,classes,\n",
        "                         normalize=False,\n",
        "                         title='Confusion Matrix',\n",
        "                         cmap=plt.cm.Blues):\n",
        "    \"\"\"\n",
        "    Objective\n",
        "    ----------\n",
        "    plot confussion matrix, classification report and accuracy score\n",
        "\n",
        "    parameters\n",
        "    ----------\n",
        "    y_true : array-like of shape (n_samples,)\n",
        "        Ground truth (correct) target values.\n",
        "\n",
        "    y_pred : array-like of shape (n_samples,)\n",
        "        Estimated targets as returned by a classifier.\n",
        "\n",
        "    classes : list\n",
        "        List of labels to index the matrix\n",
        "\n",
        "    title : title for matrix\n",
        "    cmap : colormap for matrix\n",
        "\n",
        "    returns\n",
        "    ----------\n",
        "   all accruacy matrix\n",
        "    \"\"\"\n",
        "\n",
        "\n",
        "    cm = confusion_matrix(y_true,y_pred)\n",
        "\n",
        "\n",
        "    if normalize:\n",
        "        cm = cm.astype('float') / cm.sum(axis=1)[:, np.newaxis]\n",
        "        print(\"Normalized Confusion Matrix\")\n",
        "    else:\n",
        "        print(\"Confusion Matrix, Without Normalisation\")\n",
        "\n",
        "\n",
        "    plt.imshow(cm, interpolation='nearest',cmap=cmap)\n",
        "    plt.title(title)\n",
        "    plt.colorbar()\n",
        "    tick_marks = np.arange(len(classes))\n",
        "    plt.xticks(tick_marks,classes,rotation=35)\n",
        "    plt.yticks(tick_marks,classes)\n",
        "\n",
        "    fmt = '.2f' if normalize else 'd'\n",
        "    thresh = cm.max() /2.\n",
        "\n",
        "    for i , j in itertools.product(range(cm.shape[0]), range(cm.shape[0])):\n",
        "        plt.text(j, i, format(cm[i,j], fmt),\n",
        "                 horizontalalignment='center',\n",
        "                 color='white' if cm[i, j] > thresh else 'black')\n",
        "\n",
        "    plt.ylabel('True label')\n",
        "    plt.xlabel('Predicted label')\n",
        "    # plt.tight_layout()\n",
        "\n",
        "    plt.show()\n",
        "\n",
        "    print(\"-----------------------------------------------------\")\n",
        "    print('Classification report')\n",
        "    print(classification_report(y_true,y_pred))\n",
        "\n",
        "    print(\"-----------------------------------------------------\")\n",
        "    acc= accuracy_score(y_true,y_pred)\n",
        "    print(\"Accuracy of the model: \", acc)"
      ],
      "metadata": {
        "id": "DWzEWxfJYs7c"
      },
      "execution_count": null,
      "outputs": []
    },
    {
      "cell_type": "code",
      "source": [
        "plot_confusion_metrix(y_test, y_pred,classes=[\"Not_Churn: 0\",\"Churn: 1\"])"
      ],
      "metadata": {
        "id": "JW6nmP1gZP0R"
      },
      "execution_count": null,
      "outputs": []
    },
    {
      "cell_type": "code",
      "source": [
        "EPOCHS=100\n"
      ],
      "metadata": {
        "id": "jkTsyhmplGWY"
      },
      "execution_count": null,
      "outputs": []
    },
    {
      "cell_type": "code",
      "source": [
        "# plot the training and validation loss\n",
        "N = np.arange(0, EPOCHS)\n",
        "plt.style.use(\"ggplot\")\n",
        "plt.figure(figsize = [10,8])\n",
        "plt.plot(N, H.history[\"loss\"], label=\"train_loss\")\n",
        "plt.plot(N, H.history[\"val_loss\"], label=\"val_loss\")\n",
        "plt.title(\"ANN: Training & Validation Loss\")\n",
        "plt.xlabel(\"Epoch #\", weight=\"bold\")\n",
        "plt.ylabel(\"Loss\", weight=\"bold\")\n",
        "plt.legend()\n",
        "plt.show()"
      ],
      "metadata": {
        "id": "wTJga1lkZzpN"
      },
      "execution_count": null,
      "outputs": []
    },
    {
      "cell_type": "code",
      "source": [
        "# plot the training and validation accuracy\n",
        "N = np.arange(0, EPOCHS)\n",
        "plt.style.use(\"ggplot\")\n",
        "plt.figure(figsize = [10,8])\n",
        "plt.plot(N, H.history[\"accuracy\"], label=\"train_acc\")\n",
        "plt.plot(N, H.history[\"val_accuracy\"], label=\"val_acc\")\n",
        "plt.title(\"ANN: Training and Validation Accuracy\")\n",
        "plt.xlabel(\"Epoch #\", weight=\"bold\")\n",
        "plt.ylabel(\"Accuracy\", weight=\"bold\")\n",
        "plt.legend()\n",
        "plt.show()"
      ],
      "metadata": {
        "id": "ZXuP8FO8lLcr"
      },
      "execution_count": null,
      "outputs": []
    },
    {
      "cell_type": "code",
      "source": [],
      "metadata": {
        "id": "Txetnx51mu2T"
      },
      "execution_count": null,
      "outputs": []
    }
  ]
}